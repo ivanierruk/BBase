version https://git-lfs.github.com/spec/v1
oid sha256:6e7b9233d74e1f2219325070bd0a01a27d2fa51fd4d85d9abf1f552276f6e069
size 56415
