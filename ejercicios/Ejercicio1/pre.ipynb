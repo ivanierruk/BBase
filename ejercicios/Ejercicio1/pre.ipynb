version https://git-lfs.github.com/spec/v1
oid sha256:03aaf4ee2ed8cf1e2fd60f0deec6b1a0d1e17da5cedac2b0d990723b3c6c4dcb
size 959
