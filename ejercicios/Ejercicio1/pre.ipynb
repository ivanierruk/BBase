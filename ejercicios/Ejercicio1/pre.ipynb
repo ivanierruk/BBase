version https://git-lfs.github.com/spec/v1
oid sha256:7c9aa7bfe9c4809a8f0a5a9c45263fba4298b4ac6efb5aa5d9801f4f479c8b5e
size 1386
