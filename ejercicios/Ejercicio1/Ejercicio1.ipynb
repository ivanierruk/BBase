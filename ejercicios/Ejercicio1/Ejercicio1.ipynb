{
 "cells": [
  {
   "cell_type": "markdown",
   "id": "227bb0f5",
   "metadata": {},
   "source": [
    "# BANCO BASE - EJERCICIO 1 "
   ]
  },
  {
   "cell_type": "markdown",
   "id": "17185a2c",
   "metadata": {},
   "source": [
    "__30 de marzo del 2022__\n",
    "\n",
    "Se genera el siguiente Notebook para dar respuesta a los siguientes puntos del Ejercicio 1:\n",
    "    \n",
    "> 1.1. ¿En qué horarios hay mayor afluencia y en qué estaciones? \n",
    "    \n",
    "> 1.2. Usa un método de aprendizaje no supervisado para encontrar perfiles de uso de las estaciones. Lo que debes hacer es categorizar a las estaciones en diferentes grupos a partir de su comportamiento de entradas, salidas y tipo de usuarios.\n",
    "\n",
    "> 1.3. Usa un modelo estadístico paramétrico para que, a partir de un análisis temporal, contestes lo siguiente:\n",
    "\n"
   ]
  },
  {
   "cell_type": "markdown",
   "id": "152aca27",
   "metadata": {},
   "source": [
    "### Importar archivos\n",
    "\n",
    "Se importan tres archivos .csv de manera independiente, esto porque es necesario primero ver el contenido de cada archivo "
   ]
  },
  {
   "cell_type": "code",
   "execution_count": null,
   "id": "e303bb27",
   "metadata": {},
   "outputs": [],
   "source": [
    "%%time\n",
    "import os\n",
    "\n",
    "print(os.getcwd())"
   ]
  },
  {
   "cell_type": "code",
   "execution_count": null,
   "id": "2e9c6432",
   "metadata": {},
   "outputs": [],
   "source": [
    "%%time\n",
    "import pandas as pd\n",
    "import glob\n",
    "\n",
    "path_in = '/ejercicios/Ejercicio1/input/' # el path donde se encuantran los archivos .cvs a importar \n",
    "path_out = '/ejercicios/Ejercicio1/output/' # el path donde se exportan archivos \n",
    "files = glob.glob(path_in + \"/*.csv\") # se pasan los paths de cada archivo a una lista \n",
    "dfs = []\n",
    "\n",
    "for file in files:\n",
    "    df = pd.read_csv(file)\n",
    "    print(df.shape)\n",
    "    dfs.append(df)"
   ]
  },
  {
   "cell_type": "markdown",
   "id": "863123d6",
   "metadata": {},
   "source": [
    "### Descripción de los datasets\n",
    "\n",
    "Los datasets fueron tomados del sitio ecobici: https://www.ecobici.cdmx.gob.mx/es/informacion-del-servicio/open-data\n",
    "    \n",
    "Cada dataset contiene los mismos atributos, los cuales se describen a continuación: \n",
    "    \n",
    "- __Genero_Usuario:__ el género del usuario (solo dos valores para masculino y femenino) \t\n",
    "- __Edad_Usuario:__ la edad del usuario\n",
    "- __Bici:__ el No de bicicleta \n",
    "- __Ciclo_Estacion_Retiro:__ el número de la estación de la cual se toma la bicicleta \t\n",
    "- __Fecha_Retiro_:__ la fecha en que se retira la bicicleta\n",
    "- __Hora_Retiro:__ la hora en que se retira la bicicleta\n",
    "- __Ciclo_EstacionArribo:__ el número de estación en que se regresa la bicicleta\n",
    "- __Fecha Arribo:__ la fecha en que se regresa la bicicleta\n",
    "- __Hora_Arribo:__ la hora en que se regresa la bicicleta"
   ]
  },
  {
   "cell_type": "markdown",
   "id": "ae482a07",
   "metadata": {},
   "source": [
    "### Información General de DFs\n",
    "\n",
    "Se explora el contenido de los archivos para ver los atributos, el tipo de datos y los valores null en cada uno de los atributos"
   ]
  },
  {
   "cell_type": "code",
   "execution_count": null,
   "id": "680fa02f",
   "metadata": {},
   "outputs": [],
   "source": [
    "%%time\n",
    "\n",
    "df.head()"
   ]
  },
  {
   "cell_type": "code",
   "execution_count": null,
   "id": "e3af90d9",
   "metadata": {},
   "outputs": [],
   "source": [
    "%%time\n",
    "\n",
    "dfs[0].info()"
   ]
  },
  {
   "cell_type": "code",
   "execution_count": null,
   "id": "f7ed055b",
   "metadata": {},
   "outputs": [],
   "source": [
    "%%time\n",
    "\n",
    "dfs[1].info()"
   ]
  },
  {
   "cell_type": "code",
   "execution_count": null,
   "id": "9a72ef8c",
   "metadata": {},
   "outputs": [],
   "source": [
    "%%time\n",
    "\n",
    "dfs[2].info()"
   ]
  },
  {
   "cell_type": "markdown",
   "id": "46eda310",
   "metadata": {},
   "source": [
    "### Concatenar archivos\n",
    "\n",
    "Una vez que se han validado los atributos de los tres archvios, se concatena la lista de DataFrames a un solo DataFrame para facilitar el manejo de los datos"
   ]
  },
  {
   "cell_type": "code",
   "execution_count": null,
   "id": "e63ffa0e",
   "metadata": {},
   "outputs": [],
   "source": [
    "%%time\n",
    "\n",
    "df = pd.concat(dfs, axis=0, ignore_index=True)\n",
    "\n",
    "# para validar el tamaño del archivo concatenado contra la suma de los tres archivos importados\n",
    "print('Suma de archivos separados: ', dfs[0].shape[0] + dfs[1].shape[0] + dfs[2].shape[0])\n",
    "print('Archivo concatenado', df.shape)"
   ]
  },
  {
   "cell_type": "code",
   "execution_count": null,
   "id": "438a00fc",
   "metadata": {},
   "outputs": [],
   "source": [
    "%%time\n",
    "\n",
    "df.info()"
   ]
  },
  {
   "cell_type": "markdown",
   "id": "006b9733",
   "metadata": {},
   "source": [
    "### Llenar valores nan\n",
    "\n",
    "Se decide reemplazar valores null en el atributo Genero Usuario, lo anterio debido a que es el atributo con el mayor número de valore null, y al quitar estos valores, se pierde información que se considera siginificativa. El valor se reemplaza por una \"N\" que representa neutro. "
   ]
  },
  {
   "cell_type": "code",
   "execution_count": null,
   "id": "6f2f01ae",
   "metadata": {},
   "outputs": [],
   "source": [
    "%%time\n",
    "\n",
    "# valores null en atributo \"Genero Usuario\"\n",
    "df.info()"
   ]
  },
  {
   "cell_type": "markdown",
   "id": "98063566",
   "metadata": {},
   "source": [
    "### Genero Usuario sin valores Null"
   ]
  },
  {
   "cell_type": "code",
   "execution_count": null,
   "id": "6acda0a3",
   "metadata": {},
   "outputs": [],
   "source": [
    "%%time\n",
    "\n",
    "df['Genero_Usuario'].fillna('N', inplace = True)\n",
    "df.info()"
   ]
  },
  {
   "cell_type": "markdown",
   "id": "2934b084",
   "metadata": {},
   "source": [
    "### Reemplazar los demás valores null \n",
    "\n",
    "A partir de las distribuciones mostradas en las gráficas siguientes, se decide reemplazar los valores de los atributos: Edad_Usuario, Bici y Ciclo_EstacionArribo"
   ]
  },
  {
   "cell_type": "code",
   "execution_count": null,
   "id": "6fd18502",
   "metadata": {},
   "outputs": [],
   "source": [
    "%%time\n",
    "import matplotlib.pyplot as plt\n",
    "import seaborn as sns\n",
    "\n",
    "fig, ax = plt.subplots(figsize= (8, 4))\n",
    "sns.distplot(df['Edad_Usuario'])"
   ]
  },
  {
   "cell_type": "code",
   "execution_count": null,
   "id": "25fdf860",
   "metadata": {},
   "outputs": [],
   "source": [
    "%%time\n",
    "import matplotlib.pyplot as plt\n",
    "import seaborn as sns\n",
    "\n",
    "fig, ax = plt.subplots(figsize= (8, 4))\n",
    "sns.distplot(df['Bici'])"
   ]
  },
  {
   "cell_type": "code",
   "execution_count": null,
   "id": "7ceadb31",
   "metadata": {},
   "outputs": [],
   "source": [
    "%%time\n",
    "import matplotlib.pyplot as plt\n",
    "import seaborn as sns\n",
    "\n",
    "fig, ax = plt.subplots(figsize= (8, 4))\n",
    "sns.distplot(df['Ciclo_EstacionArribo'])"
   ]
  },
  {
   "cell_type": "markdown",
   "id": "0eeeff9b",
   "metadata": {},
   "source": [
    "### Reemplazar valores null\n",
    "\n",
    "Se decide reemplazar los valores antes mencionados a partir de la media, ya que se considera que existen sesgos en la distribución "
   ]
  },
  {
   "cell_type": "code",
   "execution_count": null,
   "id": "42e24bd9",
   "metadata": {},
   "outputs": [],
   "source": [
    "%%time\n",
    "\n",
    "df['Edad_Usuario'].fillna(df['Edad_Usuario'].median(), inplace = True)\n",
    "df['Bici'].fillna(df['Edad_Usuario'].median(), inplace = True)\n",
    "df['Ciclo_EstacionArribo'].fillna(df['Edad_Usuario'].median(), inplace = True)\n",
    "\n",
    "\n",
    "print('Edad media: ', df['Edad_Usuario'].median())\n",
    "print('Bici media: ', df['Bici'].median())\n",
    "print('Estación media: ', df['Ciclo_EstacionArribo'].median())"
   ]
  },
  {
   "cell_type": "code",
   "execution_count": null,
   "id": "e3d085dc",
   "metadata": {},
   "outputs": [],
   "source": [
    "df.info()"
   ]
  },
  {
   "cell_type": "markdown",
   "id": "4b7db062",
   "metadata": {},
   "source": [
    "# Pregunta 1.1\n",
    "\n",
    "¿En qué horarios hay mayor afluencia y en qué estaciones?"
   ]
  },
  {
   "cell_type": "markdown",
   "id": "7226ed20",
   "metadata": {},
   "source": [
    "Para responder a la pregunta 1.1, es necesario primero transformar el atributo de horarios a un formato de horario determinado, en este caso se elige un formato de hora, es decir, de 0-24. La razón de esto es que se considera que en lapsos de una hora sería posible establecer mejor la afluencia. \n",
    "\n",
    "__Nota:__ La pregunta 1.1 menciona la mayor afluencia en determinado horario, sin embargo; por afluencia se entiende la mayor cantidad de personas a una determinada hora, pero esto puede ser al momento de ir por la bicicleta o al momento de regresarla, por lo cual se toman los dos valores para dar formato al atributo del horario. Así mismo, la pregunta no especifica si se refiere a la mayor afluencia en estaciones de forma general, o a la mayor afleuncia en estaciones a partir de las horas de mayor afluencia.  "
   ]
  },
  {
   "cell_type": "code",
   "execution_count": null,
   "id": "77b9c45a",
   "metadata": {},
   "outputs": [],
   "source": [
    "%%time\n",
    "\n",
    "# se genera dos nuevas columnas en el DF con la hora de arribo y retiro \n",
    "df['Hora_Arribo_formato'] = pd.to_datetime(df['Hora_Arribo'], format='%H:%M:%S').dt.hour\n",
    "df['Hora_Retiro_formato'] = pd.to_datetime(df['Hora_Retiro'], format='%H:%M:%S').dt.hour\n",
    "\n",
    "df.shape"
   ]
  },
  {
   "cell_type": "code",
   "execution_count": null,
   "id": "3b259d14",
   "metadata": {},
   "outputs": [],
   "source": [
    "%%time\n",
    "\n",
    "df['Hora_Arribo_formato'] = df['Hora_Arribo_formato'].astype('float64')\n",
    "df['Hora_Retiro_formato'] = df['Hora_Retiro_formato'].astype('float64')"
   ]
  },
  {
   "cell_type": "markdown",
   "id": "c1388508",
   "metadata": {},
   "source": [
    "### Distribución de la Hoar de Arribo\n",
    "\n",
    "Esto se realiza debido a que mas adelante se utlizará este dato, y es necesario reemplezar los valores null en este atributo "
   ]
  },
  {
   "cell_type": "code",
   "execution_count": null,
   "id": "bcc13854",
   "metadata": {},
   "outputs": [],
   "source": [
    "%%time\n",
    "import matplotlib.pyplot as plt\n",
    "import seaborn as sns\n",
    "\n",
    "fig, ax = plt.subplots(figsize= (8, 4))\n",
    "sns.distplot(df['Hora_Arribo_formato'])"
   ]
  },
  {
   "cell_type": "markdown",
   "id": "9293167e",
   "metadata": {},
   "source": [
    "### Reemplazar valor null \n",
    "\n",
    "Se reemplazan valores null en la Hora_Arribo_formato a partir de la media "
   ]
  },
  {
   "cell_type": "code",
   "execution_count": null,
   "id": "7af0fa4a",
   "metadata": {},
   "outputs": [],
   "source": [
    "%%time\n",
    "\n",
    "df['Hora_Arribo_formato'].fillna(df['Hora_Arribo_formato'].median(), inplace = True)"
   ]
  },
  {
   "cell_type": "markdown",
   "id": "06292b84",
   "metadata": {},
   "source": [
    "### Agrupar y contar \n",
    "\n",
    "Se realiza un agrupamiento y conteo a partir del horario de arribo y retiro y el atributo \"Ciclo_EstacionArribo\", el cual contienen la estación, con esto se puede saber el horario con la mayor afluencia, se sacan tambien porcentajes"
   ]
  },
  {
   "cell_type": "code",
   "execution_count": null,
   "id": "90638fc7",
   "metadata": {},
   "outputs": [],
   "source": [
    "%%time\n",
    "\n",
    "# primer agrupamiento por la hora de arribo\n",
    "df_horaArribo = df.groupby(['Hora_Arribo_formato'])['Ciclo_EstacionArribo'].count().reset_index().copy()\n",
    "\n",
    "# se genera una columna con los porcentajes \n",
    "df_horaArribo['pct'] = [(i * 1.0) / df_horaArribo['Ciclo_EstacionArribo'].sum() for i in df_horaArribo['Ciclo_EstacionArribo']]\n",
    "\n",
    "# se muestran los valores de mayor a menor \n",
    "df_horaArribo.sort_values(by='pct', ascending = False)"
   ]
  },
  {
   "cell_type": "code",
   "execution_count": null,
   "id": "f3771f44",
   "metadata": {},
   "outputs": [],
   "source": [
    "%%time\n",
    "\n",
    "# segundo agrupamiento por la hora de retiro\n",
    "df_horaRetiro = df.groupby(['Hora_Retiro_formato'])['Ciclo_Estacion_Retiro'].count().reset_index().copy()\n",
    "\n",
    "# se genera una columna con los porcentajes \n",
    "df_horaRetiro['pct'] = [(i * 1.0) / df_horaRetiro['Ciclo_Estacion_Retiro'].sum() for i in df_horaRetiro['Ciclo_Estacion_Retiro']]\n",
    "\n",
    "# se muestran los valores de mayor a menor \n",
    "df_horaRetiro.sort_values(by='pct', ascending = False)"
   ]
  },
  {
   "cell_type": "markdown",
   "id": "8e728a56",
   "metadata": {},
   "source": [
    "### Respuesta 1.1\n",
    "\n",
    "Las dos agrupaciones anteriores responden la primer parte de la pregunta, que es ¿en que horario hay mayor afluencia?\n",
    "\n",
    "- __horario mayor afluencia:__ es de las 13:00  hasta las 20:00 horas, es decir que los horarios con mayor afluencia son 13:00, 14:00, 15:00, 16:00, 17:00, 18:00 y 19:00 horas, se encuentran dos __outliers__ tanto para los horarios de entrada como de salida con mas afluencia que son las 9:00 y 8:00 horas. \n",
    "\n",
    "La razón por la cual se consideran outliers estos dos horarios (8 y 9 horas) es debido a que ambos horarios tienen una afluencia similar o incluso mayor a los encontrados en el horario (13-20 horas), además, estos son horarios de la mañana (8:00 a 10:00 horas). Esto permite inferir que existe una afleuncia importante de usuarios en estas dos horas de la mañana, además de la afluencia encontrada en el horario de 13-20 horas. \n"
   ]
  },
  {
   "cell_type": "markdown",
   "id": "3cc5309e",
   "metadata": {},
   "source": [
    "### Parte dos Respuesta 1.1"
   ]
  },
  {
   "cell_type": "markdown",
   "id": "a339e4b5",
   "metadata": {},
   "source": [
    "Para responder a la segunda parte de la pregunta 1.1 ¿En qué estaciones?, se realiza una nueva agrupación tomando como input el dato del horario de mayor afluencia, que en este caso es de las 13:00 y menor a las 20:00 horas"
   ]
  },
  {
   "cell_type": "code",
   "execution_count": null,
   "id": "ccb4b190",
   "metadata": {},
   "outputs": [],
   "source": [
    "%%time\n",
    "\n",
    "# se deja solo los horarios de mayor afluencia \n",
    "df_mAfluenciaA = df[df['Hora_Arribo_formato'] >= 13.0].copy()\n",
    "df_mAfluenciaA = df_mAfluenciaA[df_mAfluenciaA['Hora_Arribo_formato'] < 20.0].copy()\n",
    "\n",
    "print(df_mAfluenciaA.shape)\n",
    "print(df_mAfluenciaA['Hora_Arribo_formato'].unique())"
   ]
  },
  {
   "cell_type": "code",
   "execution_count": null,
   "id": "3605da2d",
   "metadata": {},
   "outputs": [],
   "source": [
    "%%time\n",
    "\n",
    "# tercer agrupamiento por la estación y por arribo\n",
    "df_mAfEstacionA = df_mAfluenciaA.groupby(['Ciclo_EstacionArribo'])['Hora_Arribo_formato'].count().reset_index().copy()\n",
    "df_mAfEstacionA.sort_values(by='Hora_Arribo_formato', ascending = False)"
   ]
  },
  {
   "cell_type": "code",
   "execution_count": null,
   "id": "6f147965",
   "metadata": {},
   "outputs": [],
   "source": [
    "%%time\n",
    "\n",
    "# se deja solo los horarios de mayor afluencia \n",
    "df_mAfluenciaR = df[df['Hora_Retiro_formato'] >= 13.0].copy()\n",
    "df_mAfluenciaR = df_mAfluenciaR[df_mAfluenciaR['Hora_Retiro_formato'] < 20.0].copy()\n",
    "\n",
    "print(df_mAfluenciaR.shape)\n",
    "print(df_mAfluenciaR['Hora_Retiro_formato'].unique())"
   ]
  },
  {
   "cell_type": "code",
   "execution_count": null,
   "id": "0ec66bac",
   "metadata": {},
   "outputs": [],
   "source": [
    "%%time\n",
    "\n",
    "# cuarto agrupamiento por la estación y el retiro \n",
    "df_mAfEstacionR = df_mAfluenciaR.groupby(['Ciclo_Estacion_Retiro'])['Hora_Retiro_formato'].count().reset_index().copy()\n",
    "df_mAfEstacionR.sort_values(by='Hora_Retiro_formato', ascending = False)"
   ]
  },
  {
   "cell_type": "markdown",
   "id": "b68ea3aa",
   "metadata": {},
   "source": [
    "# Resumen Respuesta 1.1\n",
    "\n",
    "La mayor afluencia se da en los horarios de las 13:00 hasta antes de las 20:00 horas, es decir que los horarios con mayor afluencia tanto para el arribo como para el retiro son: \n",
    "\n",
    "- 13:00, 14:00, 15:00, 16:00, 17:00, 18:00 y 19:00 horas, \n",
    "    \n",
    "Se decide tomar este rango de horarios porque en estos horarios se concentra aproximadamente cerca del 42% de la afluencia total. \n",
    "\n",
    "Así mismo, se encuentran dos outliers tanto para los horarios de arribo como de retiro con mas afluencia que son las 9:00 horas para los arribos y las 8:00 horas para los retiros, se decide no considerarlos ya que representan aproximadamente el %6 del total respectivamente. \n",
    "\n",
    "Dentro del rango de horario de mayor afluencia mencionado anteriormente, las estaciones con mayor afluencia son: \n",
    "\n",
    "- 271, 266, 1, 64 y 27 en el caso de los arribos\n",
    "- 1, 27, 64, 41 y 182 en el caso de los retiros \n",
    "\n"
   ]
  },
  {
   "cell_type": "markdown",
   "id": "271d7d4d",
   "metadata": {},
   "source": [
    "# Pregunta 1.2.\n",
    "\n",
    "\n",
    "Método de aprendizaje no supervisado para encontrar perfiles de uso de las estaciones\n",
    "\n",
    "Para resolver esta pregunta se siguen los siguientes pasos. \n",
    "\n",
    ">__1. Elegir modelo:__ se elige un modelo de agrupamiento (clustering) para representar los datos, ya que se considera que un agrupamiento es la mejor opción para generar perfiles de usuarios, el algoritmo se espcifica más adelante\n",
    "\n",
    ">__2. Datos categóricos:__ convertir los datos categoricos a numéricos, esto porque para alimentar un modelo de agrupamiento, es necesairo que los datos esten en un fromato numérico \n",
    "\n",
    ">__3. Normalizar el tipo de dato:__ de origen, existen datos datetime, str, float64 e incluso int, el cual se genero al numericalizar el sexo de los usuarios, por lo cual, se elige un formato de numero para todos los datos (float64), ya que otros datos de origen tienen este tipo de dato es un formato con el cual se puede alimentar el modelo de agrupamiento \n",
    "\n",
    ">__4. Elegir el algoritmo:__ se elige KMeans por ser un algoritmo simple, que no utliza muchos recursos, y que permite de manera general resolver la pregunta \n",
    "\n",
    "> __5. Determinar número de grupos:__ ya que se usa KMeans, es necesario definir el número \"k\", esto se hace a aprtir del método Elbow"
   ]
  },
  {
   "cell_type": "markdown",
   "id": "0b48065e",
   "metadata": {},
   "source": [
    "### Convertir datos categóricos\n",
    "\n",
    "Se pasa el atributo \"Genero_Usuario\" a número para poder trabajar con el dataset "
   ]
  },
  {
   "cell_type": "code",
   "execution_count": null,
   "id": "ed764ebc",
   "metadata": {},
   "outputs": [],
   "source": [
    "%%time\n",
    "from sklearn.preprocessing import LabelEncoder\n",
    "\n",
    "le = LabelEncoder() # instancia del label encoder \n",
    "df['Genero_Usuario_num'] = le.fit_transform(df['Genero_Usuario']) # pasar a número los datos categóricos \n",
    "df['Genero_Usuario_num'] = df['Genero_Usuario_num'].astype('float64') # pasar el tipo de dato a float64\n",
    "\n",
    "df.shape"
   ]
  },
  {
   "cell_type": "markdown",
   "id": "06ec2668",
   "metadata": {},
   "source": [
    "### Pasar a nuevo DF \n",
    "\n",
    "Se generan dos dataframes nuevos separando los datos de arribo y retiro "
   ]
  },
  {
   "cell_type": "code",
   "execution_count": null,
   "id": "e075e6c2",
   "metadata": {},
   "outputs": [],
   "source": [
    "%%time\n",
    "\n",
    "dfArribo = df[['Genero_Usuario_num', 'Edad_Usuario', 'Bici', 'Ciclo_EstacionArribo', 'Hora_Arribo_formato']].copy()\n",
    "dfRetiro = df[['Genero_Usuario_num', 'Edad_Usuario', 'Bici', 'Ciclo_Estacion_Retiro', 'Hora_Retiro_formato']].copy()\n",
    "\n",
    "print(dfArribo.shape)\n",
    "print(dfRetiro.shape)"
   ]
  },
  {
   "cell_type": "markdown",
   "id": "f9204b40",
   "metadata": {},
   "source": [
    "### Método Elbow\n",
    "\n",
    "Se utiliza este método para elegir el número optimo de clústers. La parte de la gráfica donde la línea es menos suave o cambia abruptamente es lo que forma un “codo”, ese número de clúster ayudará al momento de clasificar los datos."
   ]
  },
  {
   "cell_type": "code",
   "execution_count": null,
   "id": "d4971974",
   "metadata": {},
   "outputs": [],
   "source": [
    "%%time\n",
    "from tqdm import tqdm\n",
    "import matplotlib.pyplot as plt\n",
    "import seaborn as sns\n",
    "from sklearn.cluster import KMeans\n",
    "\n",
    "k1 = []\n",
    "inertia_s1 = []\n",
    "\n",
    "for i in tqdm(range(2,26)):\n",
    "    k1.append(i)\n",
    "    kmeans1 = KMeans(n_clusters=i, random_state=125, max_iter=100).fit(dfArribo)\n",
    "    inertia_s1.append(kmeans1.inertia_)\n",
    "\n",
    "# plot\n",
    "plt.figure(figsize=(15,5))\n",
    "plt.plot(k1, inertia_s1,color='blue', linestyle='dashed', marker='o', markerfacecolor='red', markersize=10)\n",
    "plt.title('Inertia (SSE) vs. K Value')\n",
    "plt.xlabel('K')\n",
    "plt.ylabel('Inertia score (SSE)')"
   ]
  },
  {
   "cell_type": "markdown",
   "id": "e8d5c314",
   "metadata": {},
   "source": [
    "### Generar cluster KMeans\n",
    "\n",
    "Se genera un cluster con k=5, esto porque se considera que la gráfica anterior cambia su curso de forma más abrupta entre el 4 y 5 del eje x"
   ]
  },
  {
   "cell_type": "code",
   "execution_count": null,
   "id": "a4afde29",
   "metadata": {},
   "outputs": [],
   "source": [
    "%%time\n",
    "from tqdm import tqdm\n",
    "import matplotlib.pyplot as plt\n",
    "import seaborn as sns\n",
    "from sklearn.cluster import KMeans\n",
    "\n",
    "cluster = KMeans(n_clusters=5)\n",
    "dfArribo['cluster'] = cluster.fit_predict(dfArribo)"
   ]
  },
  {
   "cell_type": "code",
   "execution_count": null,
   "id": "2f702822",
   "metadata": {},
   "outputs": [],
   "source": [
    "%%time\n",
    "dfArribo.head()"
   ]
  },
  {
   "cell_type": "markdown",
   "id": "77a6f14d",
   "metadata": {},
   "source": [
    "### Plots\n",
    "\n",
    "Se generan plots para ver la distribución de los datos, y proceder así a contestar la pregunta 1.2\n",
    "\n",
    "__Nota:__ Al correr la celda de abajo se puede ralentizar un poco el notebook, esto debido a que es un plot interactivo "
   ]
  },
  {
   "cell_type": "code",
   "execution_count": null,
   "id": "24392e54",
   "metadata": {},
   "outputs": [],
   "source": [
    "%%time\n",
    "from plotly.subplots import make_subplots\n",
    "import plotly.graph_objects as go\n",
    "\n",
    "# creating subplot for the four attributes\n",
    "fig = make_subplots(rows=3, cols=2, subplot_titles=(\"Genero_Usuario\", \"Edad_Usuario\", \n",
    "                                                    \"Estacion Arribo\", \"Hora Arribo\", \"Clusters\"))\n",
    "\n",
    "# volin plot para el género\n",
    "fig.append_trace(go.Violin(x=dfArribo['Genero_Usuario_num'], name='Genero'), row=1, col=1)\n",
    "\n",
    "# violin plot para la edad\n",
    "fig.append_trace(go.Violin(x=dfArribo['Edad_Usuario'], name='Edad'), row=1, col=2)\n",
    "\n",
    "# violin plot para estación arribo\n",
    "fig.append_trace(go.Violin(x=dfArribo['Ciclo_EstacionArribo'], name='Estacion Arribo'), row=2, col=1)\n",
    "\n",
    "# violin plot para hora arribo\n",
    "fig.append_trace(go.Violin(x=dfArribo['Hora_Arribo_formato'], name='Hora Arribo'), row=2, col=2)\n",
    "\n",
    "# violin plot para cluster\n",
    "fig.append_trace(go.Violin(x=dfArribo['cluster'], name='Clusters'), row=3, col=1)\n",
    "\n",
    "# mostrar el plot\n",
    "fig.update_layout(height=600, width=900, title_text=\"Violin Subplots\", template=\"simple_white\")\n",
    "fig.show()"
   ]
  },
  {
   "cell_type": "markdown",
   "id": "33ba34c0",
   "metadata": {},
   "source": [
    "### Agrupar \n",
    "\n",
    "Se realizna un par de agrupaciones para generar inferencias sobre los clusters"
   ]
  },
  {
   "cell_type": "code",
   "execution_count": null,
   "id": "2f496eb3",
   "metadata": {},
   "outputs": [],
   "source": [
    "%%time\n",
    "\n",
    "df_1 = dfArribo.groupby(['cluster', 'Genero_Usuario_num'])['Ciclo_EstacionArribo'].size().reset_index()\n",
    "df_2 = dfArribo.groupby(['Ciclo_EstacionArribo', 'cluster', 'Edad_Usuario'])['Genero_Usuario_num'].count().reset_index()"
   ]
  },
  {
   "cell_type": "code",
   "execution_count": null,
   "id": "715c5a8a",
   "metadata": {},
   "outputs": [],
   "source": [
    "%%time\n",
    "import plotly.express as px\n",
    "\n",
    "fig = px.bar(df_1, x='cluster', y='Ciclo_EstacionArribo', color = 'Genero_Usuario_num', width=500, height=300)\n",
    "fig.show()"
   ]
  },
  {
   "cell_type": "code",
   "execution_count": null,
   "id": "25e4144e",
   "metadata": {
    "scrolled": true
   },
   "outputs": [],
   "source": [
    "%%time\n",
    "import plotly.express as px\n",
    "\n",
    "\n",
    "fig = px.scatter(dfArribo, x='Ciclo_EstacionArribo', y='Edad_Usuario', color = 'Genero_Usuario_num', \n",
    "                 facet_col=\"cluster\",  width=900, height=600)\n",
    "fig.show()"
   ]
  },
  {
   "cell_type": "markdown",
   "id": "e8f9d5ab",
   "metadata": {},
   "source": [
    "# Resumen Respuesta 1.2\n",
    "\n",
    "1.2 Método de aprendizaje no supervizado para encontrar perfiles de eusuarios\n",
    "\n",
    ">a. Explica qué método utilizaste y porqué: \n",
    ">>el método utilizado es KMeans, la razón es que este es un\n",
    "algoritmo para generar clusters a partir de los datos, así mismo es un modelo sencillo de implementar y \n",
    "bajo en costo computacional.\n",
    "\t\n",
    ">b. Describe detalladamente como decidiste el número de grupos. ¿Que criterio elegiste?, \n",
    "¿Porque? y de ¿que tipo?\n",
    ">>El número de grupos se eleigio a partir del uso del método Elbow, siendo esto un método cuantitativo, \n",
    "la razón de elegirlo, es que es un método estandarizado y probado que permite conocer el número \n",
    "óptimo de clusters, la forma de hacerlo es graficando y visualizando una línea que cambia abruptamente \n",
    "formando aís un “codo”, ese cambio abrupto, es el número de clústers\n",
    "\n",
    ">c. De los grupos encontrados, describe las características que se pueden inferir de ellos\n",
    ">>De manera general se puede inferir que a partir de los clusters los hombres son los que utilizan \n",
    "\tmás el servicio a lo largo de las estaciones, casi 3 veces más que las mujeres, y que la distribución por \n",
    "\tedad y estación, son también los hombres quienes hacen más uso del servicio. \n",
    "    Por último, en la distribución total, hay un mayor uso en el rango de edades 20-40 años, una mayor \n",
    "\tconcentración de usuarios en las estaciones 1-200, y una disminución significativa en el uso del \n",
    "\tservicio en los horarios 00:00-07:00 horas"
   ]
  },
  {
   "cell_type": "markdown",
   "id": "3cb86907",
   "metadata": {},
   "source": [
    "# 1.3 Modelo estadístico paramétrico"
   ]
  },
  {
   "cell_type": "markdown",
   "id": "fea49bf7",
   "metadata": {},
   "source": [
    "### Importar DF\n",
    "\n",
    "Se importa un DF exportado en la pregunta 1.1 y 1.2, esto para no tener que correr el notebook desde el inicio y poder trabajar más rápido en esta sección, la exportación del archivo no se coloca en el notebook, pero el dataset si esta disponible "
   ]
  },
  {
   "cell_type": "code",
   "execution_count": null,
   "id": "bd60516f",
   "metadata": {},
   "outputs": [],
   "source": [
    "%%time\n",
    "import pandas as pd\n",
    "\n",
    "path_in = '/ejercicios/Ejercicio1/input/' # el path donde se encuantran los archivos .cvs a importar \n",
    "path_out = '/ejercicios/Ejercicio1/output/' # el path donde se exportan archivos \n",
    "\n",
    "df = pd.read_csv(path_out + 'dfConcat.csv')\n",
    "df.shape"
   ]
  },
  {
   "cell_type": "markdown",
   "id": "a6b58f3e",
   "metadata": {},
   "source": [
    "### Tipo de datos\n",
    "\n",
    "Se unifican los tipos de datos, ya que las fechas y strings aparecen como objeto "
   ]
  },
  {
   "cell_type": "code",
   "execution_count": null,
   "id": "3d5fd249",
   "metadata": {},
   "outputs": [],
   "source": [
    "%%time\n",
    "import datetime\n",
    "\n",
    "##funcion para convertir los objetas en tipo de dato datetime\n",
    "df['Genero_Usuario'] = df['Genero_Usuario'].astype(str)\n",
    "df['Fecha_Retiro'] = pd.to_datetime(df['Fecha_Retiro'], format=\"%d/%m/%Y\")\n",
    "df['Fecha Arribo'] = pd.to_datetime(df['Fecha Arribo'], format=\"%d/%m/%Y\")"
   ]
  },
  {
   "cell_type": "markdown",
   "id": "daf3bf8f",
   "metadata": {},
   "source": [
    "### LLenar valores null \n",
    "\n",
    "Se llenan los valores null con la media para los atributos a utilizar"
   ]
  },
  {
   "cell_type": "code",
   "execution_count": null,
   "id": "c03a7a58",
   "metadata": {},
   "outputs": [],
   "source": [
    "%%time\n",
    "import numpy as np\n",
    "\n",
    "df['Fecha_Retiro'].fillna(df['Fecha_Retiro'].median(), inplace = True)\n",
    "df['Ciclo_Estacion_Retiro'].fillna(df['Ciclo_Estacion_Retiro'].median(), inplace = True)"
   ]
  },
  {
   "cell_type": "markdown",
   "id": "6b80b159",
   "metadata": {},
   "source": [
    "### Sort\n",
    "\n",
    "Se acomoda el DF por fecha"
   ]
  },
  {
   "cell_type": "code",
   "execution_count": null,
   "id": "90e27e79",
   "metadata": {},
   "outputs": [],
   "source": [
    "%%time\n",
    "\n",
    "df.sort_values(by = 'Fecha_Retiro', inplace = True)"
   ]
  },
  {
   "cell_type": "markdown",
   "id": "7634d307",
   "metadata": {},
   "source": [
    "### Pasar datos a utilizar "
   ]
  },
  {
   "cell_type": "code",
   "execution_count": null,
   "id": "b2121ae1",
   "metadata": {},
   "outputs": [],
   "source": [
    "%%time\n",
    "\n",
    "dfp = df[['Fecha_Retiro', 'Ciclo_Estacion_Retiro']].copy()"
   ]
  },
  {
   "cell_type": "markdown",
   "id": "99c483e5",
   "metadata": {},
   "source": [
    "### Agrupar "
   ]
  },
  {
   "cell_type": "code",
   "execution_count": null,
   "id": "48155ac7",
   "metadata": {},
   "outputs": [],
   "source": [
    "%%time\n",
    "\n",
    "ctdf = (dfp.reset_index()\n",
    "          .groupby(['Fecha_Retiro','Ciclo_Estacion_Retiro'], as_index=False).count().rename(columns={'index':'ct'}))"
   ]
  },
  {
   "cell_type": "markdown",
   "id": "534d2b23",
   "metadata": {},
   "source": [
    "# Resúmen respuesta 1.3\n",
    "\n",
    "\n",
    "Se generan plots para visualizar cada dos estaciones la tendencia los cuales se muestran a continuación, se colocan aquí las respuestas a cada una de las preguntas: \n",
    "\n",
    "- ¿En qué estaciones puedes observar una tendencia de uso a la alta?\n",
    "    - Estaciones 3, 5, 7, 8, 9, 12, 13, 15, 20, 24\n",
    "    \n",
    "- ¿En qué estaciones puedes observar una tendencia de uso a la baja?\n",
    "    - Estaciones 1, 2, 4, 6, 10, 11, 14, 16, 17, 18\n",
    "    \n",
    "- Demuestra tus conclusiones visualmente, e.g. puedes graficar las diez estaciones con mayor tendencia de uso a la alta y las diez estaciones con menortendencia de uso a la baja.\n",
    "    - Se muestran en los siguientes gráficos"
   ]
  },
  {
   "cell_type": "code",
   "execution_count": null,
   "id": "5e65cac0",
   "metadata": {},
   "outputs": [],
   "source": [
    "%%time\n",
    "import seaborn as sns\n",
    "from matplotlib import pyplot as plt\n",
    "\n",
    "nn = ctdf[ctdf['Ciclo_Estacion_Retiro'] < 3].copy()\n",
    "\n",
    "sns.set_style('whitegrid')\n",
    "fig, ax = plt.subplots(figsize =(10, 5))\n",
    "\n",
    "# key gives the group name (i.e. category), data gives the actual values\n",
    "for key, data in nn.groupby('Ciclo_Estacion_Retiro'):\n",
    "\n",
    "    data.plot(x='Fecha_Retiro', y='ct', ax=ax, label=key)"
   ]
  },
  {
   "cell_type": "code",
   "execution_count": null,
   "id": "642040d0",
   "metadata": {},
   "outputs": [],
   "source": [
    "%%time\n",
    "import seaborn as sns\n",
    "from matplotlib import pyplot as plt\n",
    "\n",
    "nn1 = ctdf[ctdf['Ciclo_Estacion_Retiro'] >= 3].copy()\n",
    "nn1 = nn1[nn1['Ciclo_Estacion_Retiro'] < 5].copy()\n",
    "\n",
    "sns.set_style('whitegrid')\n",
    "fig, ax = plt.subplots(figsize =(10, 5))\n",
    "\n",
    "# key gives the group name (i.e. category), data gives the actual values\n",
    "for key, data in nn1.groupby('Ciclo_Estacion_Retiro'):\n",
    "\n",
    "    data.plot(x='Fecha_Retiro', y='ct', ax=ax, label=key)"
   ]
  },
  {
   "cell_type": "code",
   "execution_count": null,
   "id": "d715402c",
   "metadata": {},
   "outputs": [],
   "source": [
    "%%time\n",
    "import seaborn as sns\n",
    "from matplotlib import pyplot as plt\n",
    "\n",
    "nn1 = ctdf[ctdf['Ciclo_Estacion_Retiro'] >= 5].copy()\n",
    "nn1 = nn1[nn1['Ciclo_Estacion_Retiro'] < 7].copy()\n",
    "\n",
    "sns.set_style('whitegrid')\n",
    "fig, ax = plt.subplots(figsize =(10, 5))\n",
    "\n",
    "# key gives the group name (i.e. category), data gives the actual values\n",
    "for key, data in nn1.groupby('Ciclo_Estacion_Retiro'):\n",
    "\n",
    "    data.plot(x='Fecha_Retiro', y='ct', ax=ax, label=key)"
   ]
  },
  {
   "cell_type": "code",
   "execution_count": null,
   "id": "cb7ae4f4",
   "metadata": {},
   "outputs": [],
   "source": [
    "%%time\n",
    "import seaborn as sns\n",
    "from matplotlib import pyplot as plt\n",
    "\n",
    "nn1 = ctdf[ctdf['Ciclo_Estacion_Retiro'] >= 7].copy()\n",
    "nn1 = nn1[nn1['Ciclo_Estacion_Retiro'] < 9].copy()\n",
    "\n",
    "sns.set_style('whitegrid')\n",
    "fig, ax = plt.subplots(figsize =(10, 5))\n",
    "\n",
    "# key gives the group name (i.e. category), data gives the actual values\n",
    "for key, data in nn1.groupby('Ciclo_Estacion_Retiro'):\n",
    "\n",
    "    data.plot(x='Fecha_Retiro', y='ct', ax=ax, label=key)"
   ]
  },
  {
   "cell_type": "code",
   "execution_count": null,
   "id": "d4406441",
   "metadata": {},
   "outputs": [],
   "source": [
    "%%time\n",
    "import seaborn as sns\n",
    "from matplotlib import pyplot as plt\n",
    "\n",
    "nn1 = ctdf[ctdf['Ciclo_Estacion_Retiro'] >= 9].copy()\n",
    "nn1 = nn1[nn1['Ciclo_Estacion_Retiro'] < 11].copy()\n",
    "\n",
    "sns.set_style('whitegrid')\n",
    "fig, ax = plt.subplots(figsize =(10, 5))\n",
    "\n",
    "# key gives the group name (i.e. category), data gives the actual values\n",
    "for key, data in nn1.groupby('Ciclo_Estacion_Retiro'):\n",
    "\n",
    "    data.plot(x='Fecha_Retiro', y='ct', ax=ax, label=key)"
   ]
  },
  {
   "cell_type": "code",
   "execution_count": null,
   "id": "94e7d751",
   "metadata": {},
   "outputs": [],
   "source": [
    "%%time\n",
    "import seaborn as sns\n",
    "from matplotlib import pyplot as plt\n",
    "\n",
    "nn1 = ctdf[ctdf['Ciclo_Estacion_Retiro'] >= 11].copy()\n",
    "nn1 = nn1[nn1['Ciclo_Estacion_Retiro'] < 13].copy()\n",
    "\n",
    "sns.set_style('whitegrid')\n",
    "fig, ax = plt.subplots(figsize =(10, 5))\n",
    "\n",
    "# key gives the group name (i.e. category), data gives the actual values\n",
    "for key, data in nn1.groupby('Ciclo_Estacion_Retiro'):\n",
    "\n",
    "    data.plot(x='Fecha_Retiro', y='ct', ax=ax, label=key)"
   ]
  },
  {
   "cell_type": "code",
   "execution_count": null,
   "id": "64b9d72e",
   "metadata": {},
   "outputs": [],
   "source": [
    "%%time\n",
    "import seaborn as sns\n",
    "from matplotlib import pyplot as plt\n",
    "\n",
    "nn1 = ctdf[ctdf['Ciclo_Estacion_Retiro'] >= 13].copy()\n",
    "nn1 = nn1[nn1['Ciclo_Estacion_Retiro'] < 15].copy()\n",
    "\n",
    "sns.set_style('whitegrid')\n",
    "fig, ax = plt.subplots(figsize =(10, 5))\n",
    "\n",
    "# key gives the group name (i.e. category), data gives the actual values\n",
    "for key, data in nn1.groupby('Ciclo_Estacion_Retiro'):\n",
    "\n",
    "    data.plot(x='Fecha_Retiro', y='ct', ax=ax, label=key)"
   ]
  },
  {
   "cell_type": "code",
   "execution_count": null,
   "id": "18ab90bd",
   "metadata": {},
   "outputs": [],
   "source": [
    "%%time\n",
    "import seaborn as sns\n",
    "from matplotlib import pyplot as plt\n",
    "\n",
    "nn1 = ctdf[ctdf['Ciclo_Estacion_Retiro'] >= 15].copy()\n",
    "nn1 = nn1[nn1['Ciclo_Estacion_Retiro'] < 17].copy()\n",
    "\n",
    "sns.set_style('whitegrid')\n",
    "fig, ax = plt.subplots(figsize =(10, 5))\n",
    "\n",
    "# key gives the group name (i.e. category), data gives the actual values\n",
    "for key, data in nn1.groupby('Ciclo_Estacion_Retiro'):\n",
    "\n",
    "    data.plot(x='Fecha_Retiro', y='ct', ax=ax, label=key)"
   ]
  },
  {
   "cell_type": "code",
   "execution_count": null,
   "id": "589e9118",
   "metadata": {},
   "outputs": [],
   "source": [
    "%%time\n",
    "import seaborn as sns\n",
    "from matplotlib import pyplot as plt\n",
    "\n",
    "nn1 = ctdf[ctdf['Ciclo_Estacion_Retiro'] >= 17].copy()\n",
    "nn1 = nn1[nn1['Ciclo_Estacion_Retiro'] < 19].copy()\n",
    "\n",
    "sns.set_style('whitegrid')\n",
    "fig, ax = plt.subplots(figsize =(10, 5))\n",
    "\n",
    "# key gives the group name (i.e. category), data gives the actual values\n",
    "for key, data in nn1.groupby('Ciclo_Estacion_Retiro'):\n",
    "\n",
    "    data.plot(x='Fecha_Retiro', y='ct', ax=ax, label=key)"
   ]
  },
  {
   "cell_type": "code",
   "execution_count": null,
   "id": "b5635875",
   "metadata": {},
   "outputs": [],
   "source": [
    "%%time\n",
    "import seaborn as sns\n",
    "from matplotlib import pyplot as plt\n",
    "\n",
    "nn1 = ctdf[ctdf['Ciclo_Estacion_Retiro'] >= 19].copy()\n",
    "nn1 = nn1[nn1['Ciclo_Estacion_Retiro'] < 21].copy()\n",
    "\n",
    "sns.set_style('whitegrid')\n",
    "fig, ax = plt.subplots(figsize =(10, 5))\n",
    "\n",
    "# key gives the group name (i.e. category), data gives the actual values\n",
    "for key, data in nn1.groupby('Ciclo_Estacion_Retiro'):\n",
    "\n",
    "    data.plot(x='Fecha_Retiro', y='ct', ax=ax, label=key)"
   ]
  },
  {
   "cell_type": "code",
   "execution_count": null,
   "id": "65eab3e5",
   "metadata": {},
   "outputs": [],
   "source": [
    "%%time\n",
    "import seaborn as sns\n",
    "from matplotlib import pyplot as plt\n",
    "\n",
    "nn1 = ctdf[ctdf['Ciclo_Estacion_Retiro'] >= 23].copy()\n",
    "nn1 = nn1[nn1['Ciclo_Estacion_Retiro'] < 25].copy()\n",
    "\n",
    "sns.set_style('whitegrid')\n",
    "fig, ax = plt.subplots(figsize =(10, 5))\n",
    "\n",
    "# key gives the group name (i.e. category), data gives the actual values\n",
    "for key, data in nn1.groupby('Ciclo_Estacion_Retiro'):\n",
    "\n",
    "    data.plot(x='Fecha_Retiro', y='ct', ax=ax, label=key)"
   ]
  },
  {
   "cell_type": "code",
   "execution_count": null,
   "id": "21c2331a",
   "metadata": {},
   "outputs": [],
   "source": []
  },
  {
   "cell_type": "code",
   "execution_count": null,
   "id": "b45e8667",
   "metadata": {},
   "outputs": [],
   "source": []
  }
 ],
 "metadata": {
  "kernelspec": {
   "display_name": "Python 3 (ipykernel)",
   "language": "python",
   "name": "python3"
  },
  "language_info": {
   "codemirror_mode": {
    "name": "ipython",
    "version": 3
   },
   "file_extension": ".py",
   "mimetype": "text/x-python",
   "name": "python",
   "nbconvert_exporter": "python",
   "pygments_lexer": "ipython3",
   "version": "3.9.12"
  }
 },
 "nbformat": 4,
 "nbformat_minor": 5
}
